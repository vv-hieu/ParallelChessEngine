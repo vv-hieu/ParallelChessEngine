{
 "cells": [
  {
   "cell_type": "markdown",
   "metadata": {},
   "source": [
    "## **IMPORT**"
   ]
  },
  {
   "cell_type": "code",
   "execution_count": 1,
   "metadata": {},
   "outputs": [],
   "source": [
    "from ChessCore import *\n",
    "from ChessEngine import *\n",
    "from numba import cuda, types\n",
    "import time\n",
    "import math"
   ]
  },
  {
   "cell_type": "markdown",
   "metadata": {},
   "source": [
    "## **TESTS**"
   ]
  },
  {
   "cell_type": "markdown",
   "metadata": {},
   "source": [
    "### TEST FUNCTION ON THE CPU"
   ]
  },
  {
   "cell_type": "markdown",
   "metadata": {},
   "source": [
    "*Input:*\n",
    "- `fen`: FEN string representing the current state of the game\n",
    "- `king_moves_only`: Whether you want to see all possible moves or only the king's moves (Optional, default: `False`)\n",
    "- `plot_moves`: Whether you want to plot the board after each of the possible moves (Optional, default: `False`)\n",
    "\n",
    "*Output:* \n",
    "- Plots the board and all querried moves\n",
    "- Measures execution time"
   ]
  },
  {
   "cell_type": "code",
   "execution_count": 2,
   "metadata": {},
   "outputs": [],
   "source": [
    "def chess_move_generation_test_cpu(fen: str = None, king_moves_only: bool = False, plot_moves: bool = False):\n",
    "    game = ChessGame() if fen is None else ChessGame(fen)\n",
    "\n",
    "    start = time.time()\n",
    "    moves = game.generate_all_moves()\n",
    "    end = time.time()\n",
    "\n",
    "    print(f'Execution time: {end - start} s')\n",
    "\n",
    "    if king_moves_only:\n",
    "        king_position = game.get_king_position(game.side_to_move())\n",
    "        if king_position >= 0:\n",
    "            moves = [move for move in moves if move.start_position() == king_position]\n",
    "\n",
    "    if plot_moves:\n",
    "        num_moves = len(moves)\n",
    "        if num_moves > 0:\n",
    "            cols = math.ceil(math.sqrt(num_moves))\n",
    "            rows = math.ceil(num_moves / cols)\n",
    "\n",
    "            fig, axs = plt.subplots(rows, cols, figsize=(8 * cols, 8 * rows))\n",
    "\n",
    "            row, col = 0, 0\n",
    "\n",
    "            for move in moves:\n",
    "                game_copy = game.copy()\n",
    "                game_copy.move(move)\n",
    "                game_copy.plot(moves=[move], ax=axs[row, col] if rows > 1 else axs[col])\n",
    "                col += 1\n",
    "                if col >= cols:\n",
    "                    col = 0\n",
    "                    row += 1\n",
    "\n",
    "            while row < rows:\n",
    "                (axs[row, col] if rows > 1 else axs[col]).set_visible(False)\n",
    "                col += 1\n",
    "                if col >= cols:\n",
    "                    col = 0\n",
    "                    row += 1\n",
    "        else:\n",
    "            print('No move found')\n",
    "\n",
    "    else:\n",
    "        game.plot(moves=moves)"
   ]
  },
  {
   "cell_type": "markdown",
   "metadata": {},
   "source": [
    "### TEST FUNCTION ON THE GPU"
   ]
  },
  {
   "cell_type": "markdown",
   "metadata": {},
   "source": [
    "asd"
   ]
  },
  {
   "cell_type": "code",
   "execution_count": 3,
   "metadata": {},
   "outputs": [
    {
     "name": "stderr",
     "output_type": "stream",
     "text": [
      "c:\\Users\\Asus\\AppData\\Local\\Programs\\Python\\Python310\\lib\\site-packages\\numba\\cuda\\dispatcher.py:488: NumbaPerformanceWarning: \u001b[1mGrid size 1 will likely result in GPU under-utilization due to low occupancy.\u001b[0m\n",
      "  warn(NumbaPerformanceWarning(msg))\n"
     ]
    }
   ],
   "source": [
    "@cuda.jit\n",
    "def generate_moves_kernel(board, side, castle_WK, castle_WQ, castle_BK, castle_BQ, en_passant_target, halfmoves, out_moves, out_count):\n",
    "    count = generate_all_moves_device(board, side, castle_WK, castle_WQ, castle_BK, castle_BQ, en_passant_target, halfmoves, out_moves)\n",
    "    out_count[0] = count\n",
    "\n",
    "out_moves = np.empty(256, dtype=np.int32)\n",
    "out_count = np.empty(1, dtype=np.int32)\n",
    "generate_moves_kernel[1, 1](np.zeros(64, dtype=np.int32), True, True, True, True, True, -1, 0, out_moves, out_count)\n",
    "\n",
    "def decode_move(side: bool, move: int):\n",
    "    start_position = (move >>  0) & 0xFF\n",
    "    end_position   = (move >>  8) & 0xFF\n",
    "    promote_to     = (move >> 16) & 0x07\n",
    "    en_passant     = (move >> 19) & 0x01 != 0\n",
    "\n",
    "    if en_passant:\n",
    "        en_passant_target = end_position\n",
    "    else:\n",
    "        en_passant_target = None\n",
    "\n",
    "    if promote_to > 0:\n",
    "        promote_to += 2\n",
    "        promote_to |= 0x08 if side else 0x00\n",
    "    else:\n",
    "        promote_to = None\n",
    "\n",
    "    return Move(start_position, end_position, promote_to=promote_to, en_passant_target=en_passant_target)\n",
    "\n",
    "def chess_move_generation_test_gpu(fen: str = None, king_moves_only: bool = False, plot_moves: bool = False):\n",
    "    game = ChessGame() if fen is None else ChessGame(fen)\n",
    "\n",
    "    start = time.time()\n",
    "    d_board     = cuda.to_device(np.array(game.get_board(), dtype=np.int32))\n",
    "    d_out_moves = cuda.device_array(256, dtype=np.int32)\n",
    "    d_out_count = cuda.device_array(1, dtype=np.int32)\n",
    "    generate_moves_kernel[1, 1](d_board, game.side_to_move(), game.m_castle_WK, game.m_castle_WQ, game.m_castle_BK, game.m_castle_BQ, -1 if game.m_en_passant_target is None else game.m_en_passant_target, game.get_halfmove(), d_out_moves, d_out_count)\n",
    "    out_moves = d_out_moves.copy_to_host()\n",
    "    out_count = d_out_count.copy_to_host()[0]\n",
    "    moves = [decode_move(game.side_to_move(), move) for move in out_moves[:out_count]]\n",
    "    end = time.time()\n",
    "\n",
    "    print(f'Execution time: {end - start} s')\n",
    "\n",
    "    if king_moves_only:\n",
    "        king_position = game.get_king_position(game.side_to_move())\n",
    "        if king_position >= 0:\n",
    "            moves = [move for move in moves if move.start_position() == king_position]\n",
    "\n",
    "    if plot_moves:\n",
    "        num_moves = len(moves)\n",
    "        if num_moves > 0:\n",
    "            cols = math.ceil(math.sqrt(num_moves))\n",
    "            rows = math.ceil(num_moves / cols)\n",
    "\n",
    "            fig, axs = plt.subplots(rows, cols, figsize=(8 * cols, 8 * rows))\n",
    "\n",
    "            row, col = 0, 0\n",
    "\n",
    "            for move in moves:\n",
    "                game_copy = game.copy()\n",
    "                game_copy.move(move)\n",
    "                game_copy.plot(moves=[move], ax=axs[row, col] if rows > 1 else axs[col])\n",
    "                col += 1\n",
    "                if col >= cols:\n",
    "                    col = 0\n",
    "                    row += 1\n",
    "\n",
    "            while row < rows:\n",
    "                (axs[row, col] if rows > 1 else axs[col]).set_visible(False)\n",
    "                col += 1\n",
    "                if col >= cols:\n",
    "                    col = 0\n",
    "                    row += 1\n",
    "        else:\n",
    "            print('No move found')\n",
    "\n",
    "    else:\n",
    "        game.plot(moves=moves)"
   ]
  },
  {
   "cell_type": "markdown",
   "metadata": {},
   "source": [
    "### TEST 1: Default layout"
   ]
  },
  {
   "cell_type": "markdown",
   "metadata": {},
   "source": [
    "- Default pieces placement\n",
    "- White moves\n",
    "- Castling rights:\n",
    "    - White: king's side, queen's side\n",
    "    - Black: king's side, queen's side"
   ]
  },
  {
   "cell_type": "code",
   "execution_count": null,
   "metadata": {},
   "outputs": [],
   "source": [
    "chess_move_generation_test_cpu()"
   ]
  },
  {
   "cell_type": "code",
   "execution_count": null,
   "metadata": {},
   "outputs": [],
   "source": [
    "chess_move_generation_test_gpu()"
   ]
  },
  {
   "cell_type": "markdown",
   "metadata": {},
   "source": [
    "### TEST 2: Castling"
   ]
  },
  {
   "cell_type": "markdown",
   "metadata": {},
   "source": [
    "- White king and rooks didn't moved, black king moved\n",
    "- White moves\n",
    "- Castling rights:\n",
    "    - White: king's side, queen's side\n",
    "    - Black: none\n",
    "\n",
    "*Note: Only king's moves are shown here to prevent confusion*"
   ]
  },
  {
   "cell_type": "code",
   "execution_count": null,
   "metadata": {},
   "outputs": [],
   "source": [
    "chess_move_generation_test_cpu('r4k1r/8/8/2b5/8/8/8/R3K2R w KQ - 0 42', king_moves_only=True, plot_moves=True)"
   ]
  },
  {
   "cell_type": "code",
   "execution_count": null,
   "metadata": {},
   "outputs": [],
   "source": [
    "chess_move_generation_test_gpu('r4k1r/8/8/2b5/8/8/8/R3K2R w KQ - 0 42', king_moves_only=True, plot_moves=True)"
   ]
  },
  {
   "cell_type": "markdown",
   "metadata": {},
   "source": [
    "### TEST 3: Pinned"
   ]
  },
  {
   "cell_type": "markdown",
   "metadata": {},
   "source": [
    "- Black pawn is pinned by white queen and shouldn't be able to move\n",
    "- Black moves\n",
    "- Castling rights:\n",
    "    - White: none\n",
    "    - Black: none"
   ]
  },
  {
   "cell_type": "code",
   "execution_count": null,
   "metadata": {},
   "outputs": [],
   "source": [
    "chess_move_generation_test_cpu('8/8/2R5/3k4/4p3/3B4/6Q1/4K3 b - - 0 1')"
   ]
  },
  {
   "cell_type": "code",
   "execution_count": null,
   "metadata": {},
   "outputs": [],
   "source": [
    "chess_move_generation_test_gpu('8/8/2R5/3k4/4p3/3B4/6Q1/4K3 b - - 0 1')"
   ]
  },
  {
   "cell_type": "markdown",
   "metadata": {},
   "source": [
    "### TEST 4: Checked"
   ]
  },
  {
   "cell_type": "markdown",
   "metadata": {},
   "source": [
    "- Black king is currently in check, and can either move away, block with the knight or capture the rook\n",
    "- Black moves\n",
    "- Castling rights:\n",
    "    - White: none\n",
    "    - Black: none"
   ]
  },
  {
   "cell_type": "code",
   "execution_count": null,
   "metadata": {},
   "outputs": [],
   "source": [
    "chess_move_generation_test_cpu('8/2n5/3k3b/8/4Q3/8/3R4/3K4 b - - 0 1')"
   ]
  },
  {
   "cell_type": "code",
   "execution_count": null,
   "metadata": {},
   "outputs": [],
   "source": [
    "chess_move_generation_test_gpu('8/2n5/3k3b/8/4Q3/8/3R4/3K4 b - - 0 1')"
   ]
  },
  {
   "cell_type": "markdown",
   "metadata": {},
   "source": [
    "### TEST 5: En passant"
   ]
  },
  {
   "cell_type": "markdown",
   "metadata": {},
   "source": [
    "- White pawn has just moved up 2 spaces, and therefore can be captured via En passant\n",
    "- Black moves\n",
    "- Castling rights:\n",
    "    - White: none\n",
    "    - Black: none"
   ]
  },
  {
   "cell_type": "code",
   "execution_count": null,
   "metadata": {},
   "outputs": [],
   "source": [
    "chess_move_generation_test_cpu('4k3/2Q3B1/8/8/3pP3/8/8/4K3 b - e3 0 1', plot_moves=True)"
   ]
  },
  {
   "cell_type": "code",
   "execution_count": null,
   "metadata": {},
   "outputs": [],
   "source": [
    "chess_move_generation_test_gpu('4k3/2Q3B1/8/8/3pP3/8/8/4K3 b - e3 0 1', plot_moves=True)"
   ]
  },
  {
   "cell_type": "markdown",
   "metadata": {},
   "source": [
    "### TEST 6: Pawn's promotion"
   ]
  },
  {
   "cell_type": "markdown",
   "metadata": {},
   "source": [
    "- White pawn is about to reach rank 8 and promote\n",
    "- White moves\n",
    "- Castling rights:\n",
    "    - White: none\n",
    "    - Black: none"
   ]
  },
  {
   "cell_type": "code",
   "execution_count": null,
   "metadata": {},
   "outputs": [],
   "source": [
    "chess_move_generation_test_cpu('1k6/6P1/6b1/8/8/8/7q/K7 w - - 0 1', plot_moves=True)"
   ]
  },
  {
   "cell_type": "code",
   "execution_count": null,
   "metadata": {},
   "outputs": [],
   "source": [
    "chess_move_generation_test_gpu('1k6/6P1/6b1/8/8/8/7q/K7 w - - 0 1', plot_moves=True)"
   ]
  },
  {
   "cell_type": "markdown",
   "metadata": {},
   "source": [
    "### TEST 7: En passant special case"
   ]
  },
  {
   "cell_type": "markdown",
   "metadata": {},
   "source": [
    "- Rare special case where if white captures via En passant it would create a check\n",
    "- White moves\n",
    "- Castling rights:\n",
    "    - White: none\n",
    "    - Black: none"
   ]
  },
  {
   "cell_type": "code",
   "execution_count": null,
   "metadata": {},
   "outputs": [],
   "source": [
    "chess_move_generation_test_cpu('8/8/8/KPp4r/8/6k1/8/8 w - c6 0 1')"
   ]
  },
  {
   "cell_type": "code",
   "execution_count": null,
   "metadata": {},
   "outputs": [],
   "source": [
    "chess_move_generation_test_gpu('8/8/8/KPp4r/8/6k1/8/8 w - c6 0 1')"
   ]
  }
 ],
 "metadata": {
  "kernelspec": {
   "display_name": "Python 3.10.4 64-bit",
   "language": "python",
   "name": "python3"
  },
  "language_info": {
   "codemirror_mode": {
    "name": "ipython",
    "version": 3
   },
   "file_extension": ".py",
   "mimetype": "text/x-python",
   "name": "python",
   "nbconvert_exporter": "python",
   "pygments_lexer": "ipython3",
   "version": "3.10.4"
  },
  "orig_nbformat": 4,
  "vscode": {
   "interpreter": {
    "hash": "107d7b120a5b68773a87d4067e673630b35702e55ebab3138143d08b1c4d7cbc"
   }
  }
 },
 "nbformat": 4,
 "nbformat_minor": 2
}

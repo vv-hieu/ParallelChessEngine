{
 "cells": [
  {
   "cell_type": "code",
   "execution_count": null,
   "metadata": {},
   "outputs": [],
   "source": [
    "from ChessEngine import *\n",
    "import pandas as pd\n",
    "import time\n",
    "import math\n",
    "\n",
    "def find_move_benchmark_all(fen: str, search_depth: int, versions: dict[int, str]):\n",
    "    result_df = pd.DataFrame()\n",
    "\n",
    "    num_versions = len(versions)\n",
    "    cols = math.ceil(math.sqrt(num_versions))\n",
    "    rows = math.ceil(num_versions / cols)\n",
    "\n",
    "    fig, axs = plt.subplots(rows, cols, figsize=(8 * cols, 8 * rows))\n",
    "\n",
    "    row, col = 0, 0\n",
    "\n",
    "    for version, version_discription in versions.items():\n",
    "        game = ChessGame(fen)\n",
    "        start = time.time()\n",
    "        move = find_move(game, search_depth, version=version)\n",
    "        end = time.time()\n",
    "\n",
    "        result_df = pd.concat([result_df, pd.DataFrame({\n",
    "            'Version'        : [version_discription],\n",
    "            'Execution time' : [end - start],\n",
    "            'Evaluations'    : [get_evaluation_count()]\n",
    "        }, index=[version])])\n",
    "\n",
    "        moves = None if move is None else [move]\n",
    "        axs[row, col].set_title(version_discription, fontdict={'fontsize': 20, 'fontweight': 'medium'})\n",
    "        game.plot(moves=moves, ax=axs[row, col] if rows > 1 else axs[col])\n",
    "        col += 1\n",
    "        if col >= cols:\n",
    "            col = 0\n",
    "            row += 1\n",
    "\n",
    "    while row < rows:\n",
    "        (axs[row, col] if rows > 1 else axs[col]).set_visible(False)\n",
    "        col += 1\n",
    "        if col >= cols:\n",
    "            col = 0\n",
    "            row += 1\n",
    "\n",
    "    return result_df"
   ]
  },
  {
   "cell_type": "code",
   "execution_count": null,
   "metadata": {},
   "outputs": [],
   "source": [
    "find_move_benchmark_all('r3k2r/p1ppqpbp/Bn2pnp1/3PN3/1p2P3/2N2Q1p/PPPB1PPP/R3K2R b KQkq - 0 1', 2, {\n",
    "    0: 'Sequential',\n",
    "    1: 'Sequential + Alpha-beta',\n",
    "    2: 'Sequential + Alpha-beta + Move sorting',\n",
    "    3: 'Parallel v1',\n",
    "    4: 'Parallel v1 + Alpha-beta',\n",
    "    5: 'Parallel v1 + Alpha-beta + Move sorting'\n",
    "})"
   ]
  }
 ],
 "metadata": {
  "kernelspec": {
   "display_name": "Python 3.10.4 64-bit",
   "language": "python",
   "name": "python3"
  },
  "language_info": {
   "codemirror_mode": {
    "name": "ipython",
    "version": 3
   },
   "file_extension": ".py",
   "mimetype": "text/x-python",
   "name": "python",
   "nbconvert_exporter": "python",
   "pygments_lexer": "ipython3",
   "version": "3.10.4"
  },
  "orig_nbformat": 4,
  "vscode": {
   "interpreter": {
    "hash": "107d7b120a5b68773a87d4067e673630b35702e55ebab3138143d08b1c4d7cbc"
   }
  }
 },
 "nbformat": 4,
 "nbformat_minor": 2
}
